{
 "cells": [
  {
   "cell_type": "code",
   "execution_count": 1,
   "id": "f56b47b5",
   "metadata": {},
   "outputs": [],
   "source": [
    "from sqlalchemy import create_engine, text"
   ]
  },
  {
   "cell_type": "code",
   "execution_count": 2,
   "id": "cbeba413",
   "metadata": {},
   "outputs": [],
   "source": [
    "def connection_yandex_cloud_demo(echo):\n",
    "    \"\"\"Connection to DataBase demo\"\"\"\n",
    "    login = 'student'\n",
    "    password = 'student!'\n",
    "    host = 'rc1b-7ng6ih3jte3824x8.mdb.yandexcloud.net'\n",
    "    port = '6432'\n",
    "    db_name = 'demo'\n",
    "    return create_engine(f'postgresql://{login}:{password}@{host}:{port}/{db_name}', echo=echo)"
   ]
  },
  {
   "cell_type": "code",
   "execution_count": 3,
   "id": "75809c82",
   "metadata": {},
   "outputs": [],
   "source": [
    "engine = connection_yandex_cloud_demo(echo=True)"
   ]
  },
  {
   "cell_type": "markdown",
   "id": "1e4c7bb5",
   "metadata": {},
   "source": [
    "**! Просьба в ячейке ниже указать наименование вашей схемы, чтобы выполняемые запросы не пересекались между собой**"
   ]
  },
  {
   "cell_type": "code",
   "execution_count": 4,
   "id": "b40d3543",
   "metadata": {},
   "outputs": [],
   "source": [
    "SCHEMA_NAME = 'public'"
   ]
  },
  {
   "cell_type": "markdown",
   "id": "b07f75d6",
   "metadata": {},
   "source": [
    "### Оптимизация с помощью индекса"
   ]
  },
  {
   "cell_type": "markdown",
   "id": "326032fc",
   "metadata": {},
   "source": [
    "**Создадим таблицу для экспериментов и заполним её данными**"
   ]
  },
  {
   "cell_type": "code",
   "execution_count": 5,
   "id": "5d5a5112",
   "metadata": {},
   "outputs": [
    {
     "name": "stderr",
     "output_type": "stream",
     "text": [
      "/var/folders/g7/ydw5y9ls4_l8cbw38l0v1p_80000gn/T/ipykernel_12583/2364493803.py:11: RemovedIn20Warning: Deprecated API features detected! These feature(s) are not compatible with SQLAlchemy 2.0. To prevent incompatible upgrades prior to updating applications, ensure requirements files are pinned to \"sqlalchemy<2.0\". Set environment variable SQLALCHEMY_WARN_20=1 to show all deprecation warnings.  Set environment variable SQLALCHEMY_SILENCE_UBER_WARNING=1 to silence this message. (Background on SQLAlchemy 2.0 at: https://sqlalche.me/e/b8d9)\n",
      "  engine.execute(sql)\n"
     ]
    },
    {
     "name": "stdout",
     "output_type": "stream",
     "text": [
      "2024-02-13 21:03:03,420 INFO sqlalchemy.engine.Engine select pg_catalog.version()\n",
      "2024-02-13 21:03:03,422 INFO sqlalchemy.engine.Engine [raw sql] {}\n",
      "2024-02-13 21:03:03,472 INFO sqlalchemy.engine.Engine select current_schema()\n",
      "2024-02-13 21:03:03,473 INFO sqlalchemy.engine.Engine [raw sql] {}\n",
      "2024-02-13 21:03:03,505 INFO sqlalchemy.engine.Engine show standard_conforming_strings\n",
      "2024-02-13 21:03:03,506 INFO sqlalchemy.engine.Engine [raw sql] {}\n",
      "2024-02-13 21:03:03,551 INFO sqlalchemy.engine.Engine \n",
      "DROP TABLE IF EXISTS public.ticket_flights_copy;\n",
      "\n",
      "CREATE TABLE public.ticket_flights_copy\n",
      " (LIKE bookings.ticket_flights);\n",
      " \n",
      "INSERT INTO public.ticket_flights_copy\n",
      "SELECT * FROM bookings.ticket_flights\n",
      "\n",
      "2024-02-13 21:03:03,552 INFO sqlalchemy.engine.Engine [raw sql] {}\n",
      "2024-02-13 21:06:40,101 INFO sqlalchemy.engine.Engine COMMIT\n"
     ]
    },
    {
     "data": {
      "text/plain": [
       "<sqlalchemy.engine.cursor.LegacyCursorResult at 0x7f86b037f820>"
      ]
     },
     "execution_count": 5,
     "metadata": {},
     "output_type": "execute_result"
    }
   ],
   "source": [
    "sql = f'''\n",
    "DROP TABLE IF EXISTS {SCHEMA_NAME}.ticket_flights_copy;\n",
    "\n",
    "CREATE TABLE {SCHEMA_NAME}.ticket_flights_copy\n",
    " (LIKE bookings.ticket_flights);\n",
    " \n",
    "INSERT INTO {SCHEMA_NAME}.ticket_flights_copy\n",
    "SELECT * FROM bookings.ticket_flights\n",
    "'''\n",
    "\n",
    "engine.execute(sql)"
   ]
  },
  {
   "cell_type": "markdown",
   "id": "a76eb505",
   "metadata": {},
   "source": [
    "**Посмотрим кол-во записей в созданной таблице**"
   ]
  },
  {
   "cell_type": "code",
   "execution_count": 6,
   "id": "73996b12",
   "metadata": {},
   "outputs": [
    {
     "name": "stdout",
     "output_type": "stream",
     "text": [
      "2024-02-13 21:08:13,013 INFO sqlalchemy.engine.Engine \n",
      " SELECT count(*)\n",
      "   FROM public.ticket_flights_copy\n",
      "\n",
      "2024-02-13 21:08:13,017 INFO sqlalchemy.engine.Engine [raw sql] {}\n"
     ]
    },
    {
     "data": {
      "text/plain": [
       "8391852"
      ]
     },
     "execution_count": 6,
     "metadata": {},
     "output_type": "execute_result"
    }
   ],
   "source": [
    "sql = f'''\n",
    " SELECT count(*)\n",
    "   FROM {SCHEMA_NAME}.ticket_flights_copy\n",
    "'''\n",
    "\n",
    "engine.execute(sql).fetchall()[0][0]"
   ]
  },
  {
   "cell_type": "markdown",
   "id": "3553434b",
   "metadata": {},
   "source": [
    "**Сделаем запрос на поиск данных по перелету с идентификатором 130525**"
   ]
  },
  {
   "cell_type": "code",
   "execution_count": 7,
   "id": "070e747b",
   "metadata": {},
   "outputs": [
    {
     "name": "stdout",
     "output_type": "stream",
     "text": [
      "2024-02-13 21:08:38,325 INFO sqlalchemy.engine.Engine \n",
      "EXPLAIN ANALYZE\n",
      " SELECT * \n",
      "   FROM public.ticket_flights_copy tfc\n",
      "  WHERE tfc.flight_id = 130525\n",
      "\n",
      "2024-02-13 21:08:38,330 INFO sqlalchemy.engine.Engine [generated in 0.00197s] {}\n"
     ]
    },
    {
     "data": {
      "text/plain": [
       "[('Gather  (cost=1000.00..114647.56 rows=70 width=32) (actual time=0.254..594.082 rows=93 loops=1)',),\n",
       " ('  Workers Planned: 2',),\n",
       " ('  Workers Launched: 2',),\n",
       " ('  ->  Parallel Seq Scan on ticket_flights_copy tfc  (cost=0.00..113640.56 rows=29 width=32) (actual time=0.869..575.173 rows=31 loops=3)',),\n",
       " ('        Filter: (flight_id = 130525)',),\n",
       " ('        Rows Removed by Filter: 2797253',),\n",
       " ('Planning Time: 0.164 ms',),\n",
       " ('Execution Time: 594.132 ms',)]"
      ]
     },
     "execution_count": 7,
     "metadata": {},
     "output_type": "execute_result"
    }
   ],
   "source": [
    "sql = f'''\n",
    "EXPLAIN ANALYZE\n",
    " SELECT * \n",
    "   FROM {SCHEMA_NAME}.ticket_flights_copy tfc\n",
    "  WHERE tfc.flight_id = 130525\n",
    "'''\n",
    "\n",
    "engine.execute(text(sql)).fetchall()"
   ]
  },
  {
   "cell_type": "markdown",
   "id": "44b5959a",
   "metadata": {},
   "source": [
    "**Попробуем использовать нечеткий поиск, посмотрим как изменлось время выполнения запроса**"
   ]
  },
  {
   "cell_type": "code",
   "execution_count": 8,
   "id": "7f602e91",
   "metadata": {},
   "outputs": [
    {
     "name": "stdout",
     "output_type": "stream",
     "text": [
      "2024-02-13 21:09:56,956 INFO sqlalchemy.engine.Engine \n",
      "EXPLAIN ANALYZE \n",
      " SELECT * \n",
      "   FROM public.ticket_flights_copy tfc\n",
      "  WHERE tfc.flight_id::text like '%%130525%%'\n",
      "\n",
      "2024-02-13 21:09:56,958 INFO sqlalchemy.engine.Engine [generated in 0.00195s] {}\n"
     ]
    },
    {
     "data": {
      "text/plain": [
       "[('Gather  (cost=1000.00..132392.09 rows=2685 width=32) (actual time=0.396..1879.029 rows=93 loops=1)',),\n",
       " ('  Workers Planned: 2',),\n",
       " ('  Workers Launched: 2',),\n",
       " ('  ->  Parallel Seq Scan on ticket_flights_copy tfc  (cost=0.00..131123.59 rows=1119 width=32) (actual time=4.789..1859.077 rows=31 loops=3)',),\n",
       " (\"        Filter: ((flight_id)::text ~~ '%130525%'::text)\",),\n",
       " ('        Rows Removed by Filter: 2797253',),\n",
       " ('Planning Time: 0.076 ms',),\n",
       " ('Execution Time: 1879.085 ms',)]"
      ]
     },
     "execution_count": 8,
     "metadata": {},
     "output_type": "execute_result"
    }
   ],
   "source": [
    "sql = f'''\n",
    "EXPLAIN ANALYZE \n",
    " SELECT * \n",
    "   FROM {SCHEMA_NAME}.ticket_flights_copy tfc\n",
    "  WHERE tfc.flight_id::text like '%130525%'\n",
    "'''\n",
    "\n",
    "engine.execute(text(sql)).fetchall()"
   ]
  },
  {
   "cell_type": "markdown",
   "id": "1b9ed638",
   "metadata": {},
   "source": [
    "**Создадим индекс на поле bookings.ticket_flights_copy.flight_id**"
   ]
  },
  {
   "cell_type": "code",
   "execution_count": 9,
   "id": "8da94a65",
   "metadata": {},
   "outputs": [
    {
     "name": "stdout",
     "output_type": "stream",
     "text": [
      "2024-02-13 21:11:00,415 INFO sqlalchemy.engine.Engine \n",
      "DROP INDEX IF EXISTS ticket_flights_copy_flight_id_index;\n",
      "\n",
      "CREATE INDEX ticket_flights_copy_flight_id_index \n",
      "          ON public.ticket_flights_copy (flight_id);\n",
      "\n",
      "2024-02-13 21:11:00,417 INFO sqlalchemy.engine.Engine [raw sql] {}\n",
      "2024-02-13 21:11:41,671 INFO sqlalchemy.engine.Engine COMMIT\n"
     ]
    },
    {
     "data": {
      "text/plain": [
       "<sqlalchemy.engine.cursor.LegacyCursorResult at 0x7f86800ca280>"
      ]
     },
     "execution_count": 9,
     "metadata": {},
     "output_type": "execute_result"
    }
   ],
   "source": [
    "sql = f'''\n",
    "DROP INDEX IF EXISTS ticket_flights_copy_flight_id_index;\n",
    "\n",
    "CREATE INDEX ticket_flights_copy_flight_id_index \n",
    "          ON {SCHEMA_NAME}.ticket_flights_copy (flight_id);\n",
    "'''\n",
    "\n",
    "engine.execute(sql)"
   ]
  },
  {
   "cell_type": "markdown",
   "id": "5929a3b9",
   "metadata": {},
   "source": [
    "**Выполним запросы после создания индекса, сравним время выполнения с предыдущими результатом**"
   ]
  },
  {
   "cell_type": "code",
   "execution_count": 10,
   "id": "178eec95",
   "metadata": {},
   "outputs": [
    {
     "name": "stdout",
     "output_type": "stream",
     "text": [
      "2024-02-13 21:12:04,206 INFO sqlalchemy.engine.Engine \n",
      "EXPLAIN ANALYZE\n",
      " SELECT * \n",
      "   FROM public.ticket_flights_copy tfc\n",
      "  WHERE tfc.flight_id = 130525\n",
      "\n",
      "2024-02-13 21:12:04,208 INFO sqlalchemy.engine.Engine [cached since 205.9s ago] {}\n"
     ]
    },
    {
     "data": {
      "text/plain": [
       "[('Index Scan using ticket_flights_copy_flight_id_index on ticket_flights_copy tfc  (cost=0.43..72.61 rows=70 width=32) (actual time=0.060..0.168 rows=93 loops=1)',),\n",
       " ('  Index Cond: (flight_id = 130525)',),\n",
       " ('Planning Time: 0.150 ms',),\n",
       " ('Execution Time: 0.195 ms',)]"
      ]
     },
     "execution_count": 10,
     "metadata": {},
     "output_type": "execute_result"
    }
   ],
   "source": [
    "sql = f'''\n",
    "EXPLAIN ANALYZE\n",
    " SELECT * \n",
    "   FROM {SCHEMA_NAME}.ticket_flights_copy tfc\n",
    "  WHERE tfc.flight_id = 130525\n",
    "'''\n",
    "\n",
    "engine.execute(text(sql)).fetchall()"
   ]
  },
  {
   "cell_type": "code",
   "execution_count": 20,
   "id": "99a7d92d",
   "metadata": {},
   "outputs": [
    {
     "name": "stdout",
     "output_type": "stream",
     "text": [
      "2024-02-13 21:19:55,700 INFO sqlalchemy.engine.Engine \n",
      "EXPLAIN ANALYZE \n",
      " SELECT * \n",
      "   FROM public.ticket_flights_copy tfc\n",
      "  WHERE tfc.flight_id::text like '%%130525%%'\n",
      "\n",
      "2024-02-13 21:19:55,701 INFO sqlalchemy.engine.Engine [cached since 598.8s ago] {}\n"
     ]
    },
    {
     "data": {
      "text/plain": [
       "[('Gather  (cost=1000.00..132392.09 rows=2685 width=32) (actual time=0.259..1449.321 rows=93 loops=1)',),\n",
       " ('  Workers Planned: 2',),\n",
       " ('  Workers Launched: 2',),\n",
       " ('  ->  Parallel Seq Scan on ticket_flights_copy tfc  (cost=0.00..131123.59 rows=1119 width=32) (actual time=6.736..1430.012 rows=31 loops=3)',),\n",
       " (\"        Filter: ((flight_id)::text ~~ '%130525%'::text)\",),\n",
       " ('        Rows Removed by Filter: 2797253',),\n",
       " ('Planning Time: 0.051 ms',),\n",
       " ('Execution Time: 1449.367 ms',)]"
      ]
     },
     "execution_count": 20,
     "metadata": {},
     "output_type": "execute_result"
    }
   ],
   "source": [
    "sql = f'''\n",
    "EXPLAIN ANALYZE \n",
    " SELECT * \n",
    "   FROM {SCHEMA_NAME}.ticket_flights_copy tfc\n",
    "  WHERE tfc.flight_id::text like '%130525%'\n",
    "'''\n",
    "\n",
    "engine.execute(text(sql)).fetchall()"
   ]
  },
  {
   "cell_type": "markdown",
   "id": "61eb8623",
   "metadata": {},
   "source": [
    "**Создадим копию таблицы flights и выполним запрос с фильтрацией по двум атрибутам**"
   ]
  },
  {
   "cell_type": "code",
   "execution_count": 15,
   "id": "3ab4c935",
   "metadata": {},
   "outputs": [
    {
     "name": "stdout",
     "output_type": "stream",
     "text": [
      "2024-02-13 21:15:16,480 INFO sqlalchemy.engine.Engine \n",
      "DROP TABLE IF EXISTS public.flights_copy;\n",
      "\n",
      "CREATE TABLE public.flights_copy\n",
      " (LIKE bookings.flights);\n",
      " \n",
      "INSERT INTO public.flights_copy\n",
      "SELECT * FROM bookings.flights\n",
      "\n",
      "2024-02-13 21:15:16,482 INFO sqlalchemy.engine.Engine [raw sql] {}\n",
      "2024-02-13 21:15:17,039 INFO sqlalchemy.engine.Engine COMMIT\n"
     ]
    },
    {
     "data": {
      "text/plain": [
       "<sqlalchemy.engine.cursor.LegacyCursorResult at 0x7f86a021ab80>"
      ]
     },
     "execution_count": 15,
     "metadata": {},
     "output_type": "execute_result"
    }
   ],
   "source": [
    "sql = f'''\n",
    "DROP TABLE IF EXISTS {SCHEMA_NAME}.flights_copy;\n",
    "\n",
    "CREATE TABLE {SCHEMA_NAME}.flights_copy\n",
    " (LIKE bookings.flights);\n",
    " \n",
    "INSERT INTO {SCHEMA_NAME}.flights_copy\n",
    "SELECT * FROM bookings.flights\n",
    "'''\n",
    "\n",
    "engine.execute(sql)"
   ]
  },
  {
   "cell_type": "code",
   "execution_count": 16,
   "id": "7f28fd15",
   "metadata": {},
   "outputs": [
    {
     "name": "stdout",
     "output_type": "stream",
     "text": [
      "2024-02-13 21:17:36,964 INFO sqlalchemy.engine.Engine \n",
      "EXPLAIN ANALYZE\n",
      " SELECT * \n",
      "   FROM public.flights_copy fc\n",
      "  WHERE fc.departure_airport = 'DME'\n",
      "    AND fc.arrival_airport = 'LED'\n",
      "\n",
      "2024-02-13 21:17:36,967 INFO sqlalchemy.engine.Engine [raw sql] {}\n"
     ]
    },
    {
     "data": {
      "text/plain": [
       "[('Gather  (cost=1000.00..5639.69 rows=1198 width=63) (actual time=0.252..27.489 rows=1584 loops=1)',),\n",
       " ('  Workers Planned: 1',),\n",
       " ('  Workers Launched: 1',),\n",
       " ('  ->  Parallel Seq Scan on flights_copy fc  (cost=0.00..4519.89 rows=705 width=63) (actual time=10.183..22.270 rows=792 loops=2)',),\n",
       " (\"        Filter: ((departure_airport = 'DME'::bpchar) AND (arrival_airport = 'LED'::bpchar))\",),\n",
       " ('        Rows Removed by Filter: 106642',),\n",
       " ('Planning Time: 0.224 ms',),\n",
       " ('Execution Time: 27.600 ms',)]"
      ]
     },
     "execution_count": 16,
     "metadata": {},
     "output_type": "execute_result"
    }
   ],
   "source": [
    "sql = f'''\n",
    "EXPLAIN ANALYZE\n",
    " SELECT * \n",
    "   FROM {SCHEMA_NAME}.flights_copy fc\n",
    "  WHERE fc.departure_airport = 'DME'\n",
    "    AND fc.arrival_airport = 'LED'\n",
    "'''\n",
    "\n",
    "engine.execute(sql).fetchall()"
   ]
  },
  {
   "cell_type": "markdown",
   "id": "5e125e1b",
   "metadata": {},
   "source": [
    "**Создадим составной индекс**"
   ]
  },
  {
   "cell_type": "code",
   "execution_count": 17,
   "id": "859e2c34",
   "metadata": {},
   "outputs": [
    {
     "name": "stdout",
     "output_type": "stream",
     "text": [
      "2024-02-13 21:18:04,560 INFO sqlalchemy.engine.Engine \n",
      "DROP INDEX IF EXISTS flights_copy_airports_index;\n",
      "\n",
      "CREATE INDEX flights_copy_airports_index \n",
      "          ON public.flights_copy (departure_airport, arrival_airport);\n",
      "\n",
      "2024-02-13 21:18:04,562 INFO sqlalchemy.engine.Engine [raw sql] {}\n",
      "2024-02-13 21:18:05,005 INFO sqlalchemy.engine.Engine COMMIT\n"
     ]
    },
    {
     "data": {
      "text/plain": [
       "<sqlalchemy.engine.cursor.LegacyCursorResult at 0x7f86d0a0dbb0>"
      ]
     },
     "execution_count": 17,
     "metadata": {},
     "output_type": "execute_result"
    }
   ],
   "source": [
    "sql = f'''\n",
    "DROP INDEX IF EXISTS flights_copy_airports_index;\n",
    "\n",
    "CREATE INDEX flights_copy_airports_index \n",
    "          ON {SCHEMA_NAME}.flights_copy (departure_airport, arrival_airport);\n",
    "'''\n",
    "\n",
    "engine.execute(sql)"
   ]
  },
  {
   "cell_type": "markdown",
   "id": "f4152d5d",
   "metadata": {},
   "source": [
    "**Выполним этот запрос повторно**"
   ]
  },
  {
   "cell_type": "code",
   "execution_count": 18,
   "id": "f39e1766",
   "metadata": {},
   "outputs": [
    {
     "name": "stdout",
     "output_type": "stream",
     "text": [
      "2024-02-13 21:18:25,966 INFO sqlalchemy.engine.Engine \n",
      "EXPLAIN ANALYZE\n",
      " SELECT * \n",
      "   FROM public.flights_copy fc\n",
      "  WHERE fc.departure_airport = 'DME'\n",
      "    AND fc.arrival_airport = 'LED'\n",
      "\n",
      "2024-02-13 21:18:25,968 INFO sqlalchemy.engine.Engine [raw sql] {}\n"
     ]
    },
    {
     "data": {
      "text/plain": [
       "[('Index Scan using flights_copy_airports_index on flights_copy fc  (cost=0.29..995.47 rows=1198 width=63) (actual time=0.055..0.295 rows=1584 loops=1)',),\n",
       " (\"  Index Cond: ((departure_airport = 'DME'::bpchar) AND (arrival_airport = 'LED'::bpchar))\",),\n",
       " ('Planning Time: 0.136 ms',),\n",
       " ('Execution Time: 0.376 ms',)]"
      ]
     },
     "execution_count": 18,
     "metadata": {},
     "output_type": "execute_result"
    }
   ],
   "source": [
    "sql = f'''\n",
    "EXPLAIN ANALYZE\n",
    " SELECT * \n",
    "   FROM {SCHEMA_NAME}.flights_copy fc\n",
    "  WHERE fc.departure_airport = 'DME'\n",
    "    AND fc.arrival_airport = 'LED'\n",
    "'''\n",
    "\n",
    "engine.execute(sql).fetchall()"
   ]
  },
  {
   "cell_type": "markdown",
   "id": "a746357a",
   "metadata": {},
   "source": [
    "**Выведем только те поля, которые участвуют в индексе**"
   ]
  },
  {
   "cell_type": "code",
   "execution_count": 21,
   "id": "bf4f051a",
   "metadata": {},
   "outputs": [
    {
     "name": "stdout",
     "output_type": "stream",
     "text": [
      "2024-02-13 21:20:26,380 INFO sqlalchemy.engine.Engine \n",
      "EXPLAIN ANALYZE\n",
      " SELECT fc.departure_airport\n",
      "       ,fc.arrival_airport\n",
      "   FROM public.flights_copy fc\n",
      "  WHERE fc.departure_airport = 'DME'\n",
      "    AND fc.arrival_airport = 'LED'\n",
      "\n",
      "2024-02-13 21:20:26,381 INFO sqlalchemy.engine.Engine [raw sql] {}\n"
     ]
    },
    {
     "data": {
      "text/plain": [
       "[('Index Only Scan using flights_copy_airports_index on flights_copy fc  (cost=0.29..26.26 rows=1198 width=8) (actual time=0.027..0.150 rows=1584 loops=1)',),\n",
       " (\"  Index Cond: ((departure_airport = 'DME'::bpchar) AND (arrival_airport = 'LED'::bpchar))\",),\n",
       " ('  Heap Fetches: 0',),\n",
       " ('Planning Time: 0.063 ms',),\n",
       " ('Execution Time: 0.222 ms',)]"
      ]
     },
     "execution_count": 21,
     "metadata": {},
     "output_type": "execute_result"
    }
   ],
   "source": [
    "sql = f'''\n",
    "EXPLAIN ANALYZE\n",
    " SELECT fc.departure_airport\n",
    "       ,fc.arrival_airport\n",
    "   FROM {SCHEMA_NAME}.flights_copy fc\n",
    "  WHERE fc.departure_airport = 'DME'\n",
    "    AND fc.arrival_airport = 'LED'\n",
    "'''\n",
    "\n",
    "engine.execute(sql).fetchall()"
   ]
  },
  {
   "cell_type": "markdown",
   "id": "afd436c0",
   "metadata": {},
   "source": [
    "**Допустим, нам необходимо посмотреть данные за определённую дату о совершенных полётах**"
   ]
  },
  {
   "cell_type": "code",
   "execution_count": 22,
   "id": "2f7d8410",
   "metadata": {},
   "outputs": [
    {
     "name": "stdout",
     "output_type": "stream",
     "text": [
      "2024-02-13 21:21:22,364 INFO sqlalchemy.engine.Engine \n",
      "EXPLAIN ANALYZE\n",
      " SELECT * \n",
      "   FROM public.flights_copy fc\n",
      "  WHERE DATE(fc.actual_departure) = '2017-09-06'\n",
      "\n",
      "2024-02-13 21:21:22,365 INFO sqlalchemy.engine.Engine [raw sql] {}\n"
     ]
    },
    {
     "data": {
      "text/plain": [
       "[('Gather  (cost=1000.00..5627.29 rows=1074 width=63) (actual time=44.925..47.844 rows=0 loops=1)',),\n",
       " ('  Workers Planned: 1',),\n",
       " ('  Workers Launched: 1',),\n",
       " ('  ->  Parallel Seq Scan on flights_copy fc  (cost=0.00..4519.89 rows=632 width=63) (actual time=42.117..42.118 rows=0 loops=2)',),\n",
       " (\"        Filter: (date(actual_departure) = '2017-09-06'::date)\",),\n",
       " ('        Rows Removed by Filter: 107434',),\n",
       " ('Planning Time: 0.092 ms',),\n",
       " ('Execution Time: 47.881 ms',)]"
      ]
     },
     "execution_count": 22,
     "metadata": {},
     "output_type": "execute_result"
    }
   ],
   "source": [
    "sql = f'''\n",
    "EXPLAIN ANALYZE\n",
    " SELECT * \n",
    "   FROM {SCHEMA_NAME}.flights_copy fc\n",
    "  WHERE DATE(fc.actual_departure) = '2017-09-06'\n",
    "'''\n",
    "\n",
    "engine.execute(sql).fetchall()"
   ]
  },
  {
   "cell_type": "markdown",
   "id": "d428e7cd",
   "metadata": {},
   "source": [
    "**Сравним время выполнения фильтрации по равенству и наравенству**"
   ]
  },
  {
   "cell_type": "code",
   "execution_count": 23,
   "id": "2dab01ee",
   "metadata": {},
   "outputs": [
    {
     "name": "stdout",
     "output_type": "stream",
     "text": [
      "2024-02-13 21:21:45,347 INFO sqlalchemy.engine.Engine \n",
      "EXPLAIN ANALYZE\n",
      " SELECT * \n",
      "   FROM public.flights_copy fc\n",
      "  WHERE DATE(fc.actual_departure) > '2017-09-06'\n",
      "\n",
      "2024-02-13 21:21:45,348 INFO sqlalchemy.engine.Engine [raw sql] {}\n"
     ]
    },
    {
     "data": {
      "text/plain": [
       "[('Seq Scan on flights_copy fc  (cost=0.00..5847.00 rows=71622 width=63) (actual time=41.892..41.892 rows=0 loops=1)',),\n",
       " (\"  Filter: (date(actual_departure) > '2017-09-06'::date)\",),\n",
       " ('  Rows Removed by Filter: 214867',),\n",
       " ('Planning Time: 0.052 ms',),\n",
       " ('Execution Time: 41.925 ms',)]"
      ]
     },
     "execution_count": 23,
     "metadata": {},
     "output_type": "execute_result"
    }
   ],
   "source": [
    "sql = f'''\n",
    "EXPLAIN ANALYZE\n",
    " SELECT * \n",
    "   FROM {SCHEMA_NAME}.flights_copy fc\n",
    "  WHERE DATE(fc.actual_departure) > '2017-09-06'\n",
    "'''\n",
    "\n",
    "engine.execute(sql).fetchall()"
   ]
  },
  {
   "cell_type": "markdown",
   "id": "64cba5ea",
   "metadata": {},
   "source": [
    "**Создадим индекс на колонку с датой отправления**"
   ]
  },
  {
   "cell_type": "code",
   "execution_count": 24,
   "id": "dc8a6013",
   "metadata": {},
   "outputs": [
    {
     "name": "stdout",
     "output_type": "stream",
     "text": [
      "2024-02-13 21:23:09,908 INFO sqlalchemy.engine.Engine \n",
      "DROP INDEX IF EXISTS flights_copy_actual_departure_index;\n",
      "\n",
      "CREATE INDEX flights_copy_actual_departure_index ON public.flights_copy (actual_departure);\n",
      "\n",
      "2024-02-13 21:23:09,910 INFO sqlalchemy.engine.Engine [raw sql] {}\n",
      "2024-02-13 21:23:10,254 INFO sqlalchemy.engine.Engine COMMIT\n"
     ]
    },
    {
     "data": {
      "text/plain": [
       "<sqlalchemy.engine.cursor.LegacyCursorResult at 0x7f868001ac70>"
      ]
     },
     "execution_count": 24,
     "metadata": {},
     "output_type": "execute_result"
    }
   ],
   "source": [
    "sql = f'''\n",
    "DROP INDEX IF EXISTS flights_copy_actual_departure_index;\n",
    "\n",
    "CREATE INDEX flights_copy_actual_departure_index ON {SCHEMA_NAME}.flights_copy (actual_departure);\n",
    "'''\n",
    "\n",
    "engine.execute(sql)"
   ]
  },
  {
   "cell_type": "markdown",
   "id": "6e19e0d7",
   "metadata": {},
   "source": [
    "**Проверим, ускорился ли наш запрос**"
   ]
  },
  {
   "cell_type": "code",
   "execution_count": 25,
   "id": "f5b16590",
   "metadata": {},
   "outputs": [
    {
     "name": "stdout",
     "output_type": "stream",
     "text": [
      "2024-02-13 21:23:17,533 INFO sqlalchemy.engine.Engine \n",
      "EXPLAIN ANALYZE\n",
      " SELECT * \n",
      "   FROM public.flights_copy fc\n",
      "  WHERE fc.actual_departure = '2017-09-06'\n",
      "\n",
      "2024-02-13 21:23:17,535 INFO sqlalchemy.engine.Engine [raw sql] {}\n"
     ]
    },
    {
     "data": {
      "text/plain": [
       "[('Index Scan using flights_copy_actual_departure_index on flights_copy fc  (cost=0.42..2.44 rows=1 width=63) (actual time=0.031..0.031 rows=0 loops=1)',),\n",
       " (\"  Index Cond: (actual_departure = '2017-09-06 00:00:00+03'::timestamp with time zone)\",),\n",
       " ('Planning Time: 0.213 ms',),\n",
       " ('Execution Time: 0.067 ms',)]"
      ]
     },
     "execution_count": 25,
     "metadata": {},
     "output_type": "execute_result"
    }
   ],
   "source": [
    "sql = f'''\n",
    "EXPLAIN ANALYZE\n",
    " SELECT * \n",
    "   FROM {SCHEMA_NAME}.flights_copy fc\n",
    "  WHERE fc.actual_departure = '2017-09-06'\n",
    "'''\n",
    "\n",
    "engine.execute(sql).fetchall()"
   ]
  },
  {
   "cell_type": "markdown",
   "id": "af7b9cf0",
   "metadata": {},
   "source": [
    "**Сравним время выполнения фильтрации по равенству и наравенству на индексе**"
   ]
  },
  {
   "cell_type": "code",
   "execution_count": 26,
   "id": "4f643f59",
   "metadata": {},
   "outputs": [
    {
     "name": "stdout",
     "output_type": "stream",
     "text": [
      "2024-02-13 21:23:32,546 INFO sqlalchemy.engine.Engine \n",
      "EXPLAIN ANALYZE\n",
      " SELECT * \n",
      "   FROM public.flights_copy fc\n",
      "  WHERE fc.actual_departure > '2017-09-06'\n",
      "\n",
      "2024-02-13 21:23:32,547 INFO sqlalchemy.engine.Engine [raw sql] {}\n"
     ]
    },
    {
     "data": {
      "text/plain": [
       "[('Index Scan using flights_copy_actual_departure_index on flights_copy fc  (cost=0.42..2.44 rows=1 width=63) (actual time=0.006..0.006 rows=0 loops=1)',),\n",
       " (\"  Index Cond: (actual_departure > '2017-09-06 00:00:00+03'::timestamp with time zone)\",),\n",
       " ('Planning Time: 0.160 ms',),\n",
       " ('Execution Time: 0.033 ms',)]"
      ]
     },
     "execution_count": 26,
     "metadata": {},
     "output_type": "execute_result"
    }
   ],
   "source": [
    "sql = f'''\n",
    "EXPLAIN ANALYZE\n",
    " SELECT * \n",
    "   FROM {SCHEMA_NAME}.flights_copy fc\n",
    "  WHERE fc.actual_departure > '2017-09-06'\n",
    "'''\n",
    "\n",
    "engine.execute(sql).fetchall()"
   ]
  },
  {
   "cell_type": "markdown",
   "id": "52f5422a",
   "metadata": {},
   "source": [
    "**UNION vs UNION ALL**"
   ]
  },
  {
   "cell_type": "code",
   "execution_count": 27,
   "id": "b8fb85fc",
   "metadata": {},
   "outputs": [
    {
     "name": "stdout",
     "output_type": "stream",
     "text": [
      "2024-02-13 21:24:19,877 INFO sqlalchemy.engine.Engine \n",
      "EXPLAIN ANALYZE\n",
      " SELECT * \n",
      "   FROM public.flights_copy fc\n",
      "  WHERE fc.scheduled_departure < '2017-01-01 00:00:00.000 +0300'\n",
      " UNION\n",
      " SELECT * \n",
      "   FROM public.flights_copy fc2\n",
      "  WHERE fc2.scheduled_departure >= '2017-01-01 00:00:00.000 +0300'\n",
      "\n",
      "2024-02-13 21:24:19,879 INFO sqlalchemy.engine.Engine [raw sql] {}\n"
     ]
    },
    {
     "data": {
      "text/plain": [
       "[('Unique  (cost=43364.47..49273.31 rows=214867 width=170) (actual time=106.769..176.518 rows=214867 loops=1)',),\n",
       " ('  ->  Sort  (cost=43364.47..43901.63 rows=214867 width=170) (actual time=106.767..131.787 rows=214867 loops=1)',),\n",
       " ('        Sort Key: fc.flight_id, fc.flight_no, fc.scheduled_departure, fc.scheduled_arrival, fc.departure_airport, fc.arrival_airport, fc.status, fc.aircraft_code, fc.actual_departure, fc.actual_arrival',),\n",
       " ('        Sort Method: external merge  Disk: 17112kB',),\n",
       " ('        ->  Append  (cost=0.00..13842.68 rows=214867 width=170) (actual time=0.019..65.052 rows=214867 loops=1)',),\n",
       " ('              ->  Seq Scan on flights_copy fc  (cost=0.00..5309.84 rows=75337 width=63) (actual time=0.018..28.056 rows=75402 loops=1)',),\n",
       " (\"                    Filter: (scheduled_departure < '2017-01-01 00:00:00+03'::timestamp with time zone)\",),\n",
       " ('                    Rows Removed by Filter: 139465',),\n",
       " ('              ->  Seq Scan on flights_copy fc2  (cost=0.00..5309.84 rows=139530 width=63) (actual time=0.006..21.658 rows=139465 loops=1)',),\n",
       " (\"                    Filter: (scheduled_departure >= '2017-01-01 00:00:00+03'::timestamp with time zone)\",),\n",
       " ('                    Rows Removed by Filter: 75402',),\n",
       " ('Planning Time: 0.176 ms',),\n",
       " ('Execution Time: 185.514 ms',)]"
      ]
     },
     "execution_count": 27,
     "metadata": {},
     "output_type": "execute_result"
    }
   ],
   "source": [
    "sql = f'''\n",
    "EXPLAIN ANALYZE\n",
    " SELECT * \n",
    "   FROM {SCHEMA_NAME}.flights_copy fc\n",
    "  WHERE fc.scheduled_departure < '2017-01-01 00:00:00.000 +0300'\n",
    " UNION\n",
    " SELECT * \n",
    "   FROM {SCHEMA_NAME}.flights_copy fc2\n",
    "  WHERE fc2.scheduled_departure >= '2017-01-01 00:00:00.000 +0300'\n",
    "'''\n",
    "\n",
    "engine.execute(sql).fetchall()"
   ]
  },
  {
   "cell_type": "code",
   "execution_count": 28,
   "id": "68eaaeb3",
   "metadata": {},
   "outputs": [
    {
     "name": "stdout",
     "output_type": "stream",
     "text": [
      "2024-02-13 21:24:25,385 INFO sqlalchemy.engine.Engine \n",
      "EXPLAIN ANALYZE \n",
      " SELECT * \n",
      "   FROM public.flights_copy fc\n",
      "  WHERE fc.scheduled_departure < '2017-01-01 00:00:00.000 +0300'\n",
      " UNION ALL\n",
      " SELECT * \n",
      "   FROM public.flights_copy fc2\n",
      "  WHERE fc2.scheduled_departure >= '2017-01-01 00:00:00.000 +0300'\n",
      "\n",
      "2024-02-13 21:24:25,386 INFO sqlalchemy.engine.Engine [raw sql] {}\n"
     ]
    },
    {
     "data": {
      "text/plain": [
       "[('Append  (cost=0.00..13842.68 rows=214867 width=63) (actual time=0.019..68.963 rows=214867 loops=1)',),\n",
       " ('  ->  Seq Scan on flights_copy fc  (cost=0.00..5309.84 rows=75337 width=63) (actual time=0.019..18.690 rows=75402 loops=1)',),\n",
       " (\"        Filter: (scheduled_departure < '2017-01-01 00:00:00+03'::timestamp with time zone)\",),\n",
       " ('        Rows Removed by Filter: 139465',),\n",
       " ('  ->  Seq Scan on flights_copy fc2  (cost=0.00..5309.84 rows=139530 width=63) (actual time=0.008..33.001 rows=139465 loops=1)',),\n",
       " (\"        Filter: (scheduled_departure >= '2017-01-01 00:00:00+03'::timestamp with time zone)\",),\n",
       " ('        Rows Removed by Filter: 75402',),\n",
       " ('Planning Time: 0.129 ms',),\n",
       " ('Execution Time: 77.761 ms',)]"
      ]
     },
     "execution_count": 28,
     "metadata": {},
     "output_type": "execute_result"
    }
   ],
   "source": [
    "sql = f'''\n",
    "EXPLAIN ANALYZE \n",
    " SELECT * \n",
    "   FROM {SCHEMA_NAME}.flights_copy fc\n",
    "  WHERE fc.scheduled_departure < '2017-01-01 00:00:00.000 +0300'\n",
    " UNION ALL\n",
    " SELECT * \n",
    "   FROM {SCHEMA_NAME}.flights_copy fc2\n",
    "  WHERE fc2.scheduled_departure >= '2017-01-01 00:00:00.000 +0300'\n",
    "'''\n",
    "\n",
    "engine.execute(sql).fetchall()"
   ]
  },
  {
   "cell_type": "markdown",
   "id": "d63a27cc",
   "metadata": {},
   "source": [
    "**Временные таблицы**"
   ]
  },
  {
   "cell_type": "code",
   "execution_count": 33,
   "id": "221303b6",
   "metadata": {},
   "outputs": [
    {
     "name": "stdout",
     "output_type": "stream",
     "text": [
      "2024-02-13 21:40:14,432 INFO sqlalchemy.engine.Engine \n",
      "EXPLAIN ANALYSE\n",
      "SELECT fc.*\n",
      "      ,tfc.ticket_no\n",
      "      ,tfc.fare_conditions \n",
      "      ,tfc.amount \n",
      "FROM public.flights_copy fc\n",
      "JOIN public.ticket_flights_copy tfc ON tfc.flight_id = fc.flight_id \n",
      "\n",
      "2024-02-13 21:40:14,435 INFO sqlalchemy.engine.Engine [raw sql] {}\n"
     ]
    },
    {
     "data": {
      "text/plain": [
       "[('Merge Join  (cost=0.89..315098.96 rows=8391852 width=91) (actual time=0.019..7101.362 rows=8391852 loops=1)',),\n",
       " ('  Merge Cond: (fc.flight_id = tfc.flight_id)',),\n",
       " ('  ->  Index Scan using flights_copy_flight_id_idx on flights_copy fc  (cost=0.42..6440.43 rows=214867 width=63) (actual time=0.009..48.364 rows=214867 loops=1)',),\n",
       " ('  ->  Index Scan using ticket_flights_copy_flight_id_index on ticket_flights_copy tfc  (cost=0.43..203223.22 rows=8391852 width=32) (actual time=0.006..5520.391 rows=8391852 loops=1)',),\n",
       " ('Planning Time: 0.253 ms',),\n",
       " ('Execution Time: 7410.362 ms',)]"
      ]
     },
     "execution_count": 33,
     "metadata": {},
     "output_type": "execute_result"
    }
   ],
   "source": [
    "sql = f'''\n",
    "EXPLAIN ANALYSE\n",
    "SELECT fc.*\n",
    "      ,tfc.ticket_no\n",
    "      ,tfc.fare_conditions \n",
    "      ,tfc.amount \n",
    "FROM {SCHEMA_NAME}.flights_copy fc\n",
    "JOIN {SCHEMA_NAME}.ticket_flights_copy tfc ON tfc.flight_id = fc.flight_id \n",
    "'''\n",
    "\n",
    "engine.execute(sql).fetchall()"
   ]
  },
  {
   "cell_type": "markdown",
   "id": "5c297cb0",
   "metadata": {},
   "source": [
    "**Создаём временную таблицу**"
   ]
  },
  {
   "cell_type": "code",
   "execution_count": 30,
   "id": "9c8dd741",
   "metadata": {},
   "outputs": [
    {
     "name": "stdout",
     "output_type": "stream",
     "text": [
      "2024-02-13 21:35:45,588 INFO sqlalchemy.engine.Engine \n",
      "CREATE TEMPORARY TABLE ticket_flights_materialized_public AS \n",
      "SELECT fc.*\n",
      "      ,tfc.ticket_no\n",
      "      ,tfc.fare_conditions \n",
      "      ,tfc.amount \n",
      "  FROM public.flights_copy fc\n",
      "  JOIN public.ticket_flights_copy tfc ON tfc.flight_id = fc.flight_id;\n",
      "\n",
      "2024-02-13 21:35:45,590 INFO sqlalchemy.engine.Engine [raw sql] {}\n",
      "2024-02-13 21:36:55,793 INFO sqlalchemy.engine.Engine COMMIT\n"
     ]
    },
    {
     "data": {
      "text/plain": [
       "<sqlalchemy.engine.cursor.LegacyCursorResult at 0x7f86a021a880>"
      ]
     },
     "execution_count": 30,
     "metadata": {},
     "output_type": "execute_result"
    }
   ],
   "source": [
    "sql = f'''\n",
    "CREATE TEMPORARY TABLE ticket_flights_materialized_{SCHEMA_NAME} AS \n",
    "SELECT fc.*\n",
    "      ,tfc.ticket_no\n",
    "      ,tfc.fare_conditions \n",
    "      ,tfc.amount \n",
    "  FROM {SCHEMA_NAME}.flights_copy fc\n",
    "  JOIN {SCHEMA_NAME}.ticket_flights_copy tfc ON tfc.flight_id = fc.flight_id;\n",
    "'''\n",
    "\n",
    "engine.execute(sql)"
   ]
  },
  {
   "cell_type": "markdown",
   "id": "3882e8c1",
   "metadata": {},
   "source": [
    "**Сделаем запрос к веременной таблице. Как изменилось время выполнения?**"
   ]
  },
  {
   "cell_type": "code",
   "execution_count": 31,
   "id": "cf329b85",
   "metadata": {},
   "outputs": [
    {
     "name": "stdout",
     "output_type": "stream",
     "text": [
      "2024-02-13 21:37:02,785 INFO sqlalchemy.engine.Engine \n",
      "EXPLAIN ANALYSE\n",
      " SELECT tfm.*\n",
      "   FROM ticket_flights_materialized_public tfm;\n",
      "\n",
      "2024-02-13 21:37:02,786 INFO sqlalchemy.engine.Engine [raw sql] {}\n"
     ]
    },
    {
     "data": {
      "text/plain": [
       "[('Seq Scan on ticket_flights_materialized_public tfm  (cost=0.00..172613.70 rows=3561870 width=280) (actual time=931.778..52876.701 rows=8391852 loops=1)',),\n",
       " ('Planning Time: 0.094 ms',),\n",
       " ('Execution Time: 62897.597 ms',)]"
      ]
     },
     "execution_count": 31,
     "metadata": {},
     "output_type": "execute_result"
    }
   ],
   "source": [
    "sql = f'''\n",
    "EXPLAIN ANALYSE\n",
    " SELECT tfm.*\n",
    "   FROM ticket_flights_materialized_{SCHEMA_NAME} tfm;\n",
    "'''\n",
    "\n",
    "engine.execute(sql).fetchall()"
   ]
  }
 ],
 "metadata": {
  "kernelspec": {
   "display_name": "Python 3 (ipykernel)",
   "language": "python",
   "name": "python3"
  },
  "language_info": {
   "codemirror_mode": {
    "name": "ipython",
    "version": 3
   },
   "file_extension": ".py",
   "mimetype": "text/x-python",
   "name": "python",
   "nbconvert_exporter": "python",
   "pygments_lexer": "ipython3",
   "version": "3.9.13"
  }
 },
 "nbformat": 4,
 "nbformat_minor": 5
}
