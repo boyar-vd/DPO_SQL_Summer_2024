{
 "cells": [
  {
   "cell_type": "markdown",
   "id": "6623b617",
   "metadata": {},
   "source": [
    "Импортируем библиотеки"
   ]
  },
  {
   "cell_type": "code",
   "execution_count": null,
   "id": "a09471c3",
   "metadata": {},
   "outputs": [],
   "source": [
    "from sqlalchemy import create_engine, text\n",
    "import pandas as pd\n",
    "from datetime import datetime"
   ]
  },
  {
   "cell_type": "markdown",
   "id": "4febfa91",
   "metadata": {},
   "source": [
    "Настраиваем подключение к БД"
   ]
  },
  {
   "cell_type": "code",
   "execution_count": null,
   "id": "37c70755",
   "metadata": {},
   "outputs": [],
   "source": [
    "def connection_yandex_cloud_demo(echo):\n",
    "    \"\"\"Connection to DataBase demo\"\"\"\n",
    "    login = 'student'\n",
    "    password = 'student!'\n",
    "    host = 'rc1b-7ng6ih3jte3824x8.mdb.yandexcloud.net'\n",
    "    port = '6432'\n",
    "    db_name = 'demo'\n",
    "    return create_engine(f'postgresql://{login}:{password}@{host}:{port}/{db_name}', echo=echo)"
   ]
  },
  {
   "cell_type": "code",
   "execution_count": null,
   "id": "f781030c",
   "metadata": {},
   "outputs": [],
   "source": [
    "engine = connection_yandex_cloud_demo(echo=True)"
   ]
  },
  {
   "cell_type": "markdown",
   "id": "347644f9",
   "metadata": {},
   "source": [
    "Формируем sql запрос"
   ]
  },
  {
   "cell_type": "code",
   "execution_count": null,
   "id": "1a919547",
   "metadata": {},
   "outputs": [],
   "source": [
    "sql = f'''\n",
    "SELECT *\n",
    "  FROM bookings.aircrafts_data\n",
    ";\n",
    "'''"
   ]
  },
  {
   "cell_type": "markdown",
   "id": "8eb49031",
   "metadata": {},
   "source": [
    "Запрашиваем данные из БД и сохраняем в Pandas DataFrame"
   ]
  },
  {
   "cell_type": "code",
   "execution_count": null,
   "id": "2ff1dab4",
   "metadata": {},
   "outputs": [],
   "source": [
    "with engine.begin() as connection:\n",
    "    df = pd.read_sql(con=connection, sql=text(sql))"
   ]
  },
  {
   "cell_type": "markdown",
   "id": "8217575a",
   "metadata": {},
   "source": [
    "Определяем текущую дату"
   ]
  },
  {
   "cell_type": "code",
   "execution_count": null,
   "id": "5db9b2da",
   "metadata": {},
   "outputs": [],
   "source": [
    "current_datetime = datetime.now().strftime(\"%Y-%m-%d %H:%M:%S\")"
   ]
  },
  {
   "cell_type": "markdown",
   "id": "5a0a39a9",
   "metadata": {},
   "source": [
    "Сохраняем данные в эксель"
   ]
  },
  {
   "cell_type": "code",
   "execution_count": null,
   "id": "2cc9d266",
   "metadata": {},
   "outputs": [],
   "source": [
    "df.to_excel(f'report_for_the_bo$$ {current_datetime}.xlsx')"
   ]
  }
 ],
 "metadata": {
  "kernelspec": {
   "display_name": "Python 3 (ipykernel)",
   "language": "python",
   "name": "python3"
  },
  "language_info": {
   "codemirror_mode": {
    "name": "ipython",
    "version": 3
   },
   "file_extension": ".py",
   "mimetype": "text/x-python",
   "name": "python",
   "nbconvert_exporter": "python",
   "pygments_lexer": "ipython3",
   "version": "3.9.13"
  }
 },
 "nbformat": 4,
 "nbformat_minor": 5
}
