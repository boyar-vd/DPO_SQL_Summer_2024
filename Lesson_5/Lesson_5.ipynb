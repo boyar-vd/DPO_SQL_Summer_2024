{
 "cells": [
  {
   "cell_type": "markdown",
   "id": "0906902e",
   "metadata": {},
   "source": [
    "**I. Подключение к БД**"
   ]
  },
  {
   "cell_type": "markdown",
   "id": "6b9c456b",
   "metadata": {},
   "source": [
    "*Импортируем библиотеку psycopg2*"
   ]
  },
  {
   "cell_type": "code",
   "execution_count": null,
   "id": "6b3ce7e4",
   "metadata": {},
   "outputs": [],
   "source": [
    "# !pip install psycopg2"
   ]
  },
  {
   "cell_type": "code",
   "execution_count": null,
   "id": "a84095d5",
   "metadata": {},
   "outputs": [],
   "source": [
    "import psycopg2"
   ]
  },
  {
   "cell_type": "markdown",
   "id": "6f9271e4",
   "metadata": {},
   "source": [
    "*Создаём подключение к БД*"
   ]
  },
  {
   "cell_type": "code",
   "execution_count": null,
   "id": "aa547a0d",
   "metadata": {},
   "outputs": [],
   "source": [
    "conn = psycopg2.connect(host = \"rc1b-7ng6ih3jte3824x8.mdb.yandexcloud.net\", \n",
    "                        port = 6432,\n",
    "                        database = \"demo\", \n",
    "                        user = \"student\",\n",
    "                        password = \"student!\"\n",
    "                       )"
   ]
  },
  {
   "cell_type": "markdown",
   "id": "65ae3e18",
   "metadata": {},
   "source": [
    "*Взаимодействие с базой осуществляется при помощи отдельного класса, cursor*"
   ]
  },
  {
   "cell_type": "code",
   "execution_count": null,
   "id": "5965bfa2",
   "metadata": {},
   "outputs": [],
   "source": [
    "cur = conn.cursor()"
   ]
  },
  {
   "cell_type": "markdown",
   "id": "a59909d6",
   "metadata": {},
   "source": [
    "Пишем SQL запрос и записываем его в переменную sql"
   ]
  },
  {
   "cell_type": "code",
   "execution_count": null,
   "id": "0c376a6f",
   "metadata": {},
   "outputs": [],
   "source": [
    "sql = \"SELECT aircraft_code, model FROM bookings.aircrafts_data\""
   ]
  },
  {
   "cell_type": "markdown",
   "id": "307b88af",
   "metadata": {},
   "source": [
    "Запускаем SQL запрос"
   ]
  },
  {
   "cell_type": "code",
   "execution_count": null,
   "id": "ce1e83ff",
   "metadata": {},
   "outputs": [],
   "source": [
    "cur.execute(sql)"
   ]
  },
  {
   "cell_type": "markdown",
   "id": "80f5f1f8",
   "metadata": {},
   "source": [
    "Метод description позволяет посмотреть описание данных, которые вернул метод execute"
   ]
  },
  {
   "cell_type": "code",
   "execution_count": null,
   "id": "f76b13af",
   "metadata": {},
   "outputs": [],
   "source": [
    "cur.description"
   ]
  },
  {
   "cell_type": "markdown",
   "id": "71920012",
   "metadata": {},
   "source": [
    "Таким способом можно извлечь список названий колонок"
   ]
  },
  {
   "cell_type": "code",
   "execution_count": null,
   "id": "6ac9e968",
   "metadata": {},
   "outputs": [],
   "source": [
    "colnames_1 = list()\n",
    "\n",
    "for i in cur.description:\n",
    "    colnames_1.append(i[0])"
   ]
  },
  {
   "cell_type": "code",
   "execution_count": null,
   "id": "d605c254",
   "metadata": {},
   "outputs": [],
   "source": [
    "colnames_1"
   ]
  },
  {
   "cell_type": "markdown",
   "id": "a3c7076a",
   "metadata": {},
   "source": [
    "Ещё один способ извлечения колонок"
   ]
  },
  {
   "cell_type": "code",
   "execution_count": null,
   "id": "a106ddfd",
   "metadata": {},
   "outputs": [],
   "source": [
    "colnames_2 = [desc[0] for desc in cur.description]\n",
    "colnames_2"
   ]
  },
  {
   "cell_type": "markdown",
   "id": "45c9fa30",
   "metadata": {},
   "source": [
    "Напишем ещё один запрос, который забирает все данных из таблицы aircrafts_data"
   ]
  },
  {
   "cell_type": "code",
   "execution_count": null,
   "id": "66569cd6",
   "metadata": {},
   "outputs": [],
   "source": [
    "sql = '''\n",
    "SELECT *\n",
    "  FROM bookings.aircrafts_data\n",
    "'''"
   ]
  },
  {
   "cell_type": "markdown",
   "id": "1a3f6d60",
   "metadata": {},
   "source": [
    "Так можно вывести содержимое переменной sql"
   ]
  },
  {
   "cell_type": "code",
   "execution_count": null,
   "id": "edadbc5c",
   "metadata": {},
   "outputs": [],
   "source": [
    "print(sql)"
   ]
  },
  {
   "cell_type": "markdown",
   "id": "9c46b1d9",
   "metadata": {},
   "source": [
    "*Забираем результат выполнения нашего запроса и сохраняем его в переменной result*"
   ]
  },
  {
   "cell_type": "code",
   "execution_count": null,
   "id": "c162432d",
   "metadata": {},
   "outputs": [],
   "source": [
    "cur.execute(sql)\n",
    "\n",
    "result = cur.fetchall()"
   ]
  },
  {
   "cell_type": "code",
   "execution_count": null,
   "id": "0869324b",
   "metadata": {},
   "outputs": [],
   "source": [
    "result"
   ]
  },
  {
   "cell_type": "markdown",
   "id": "6ce71a7e",
   "metadata": {},
   "source": [
    "Данные возвращаются в виде списка (list)"
   ]
  },
  {
   "cell_type": "code",
   "execution_count": null,
   "id": "2a57ed92",
   "metadata": {},
   "outputs": [],
   "source": [
    "type(result)"
   ]
  },
  {
   "cell_type": "markdown",
   "id": "9ac8381a",
   "metadata": {},
   "source": [
    "*Данные можно также забирать построчно. Это удобно при последовательной обработке строк;*"
   ]
  },
  {
   "cell_type": "code",
   "execution_count": null,
   "id": "c622e71e",
   "metadata": {},
   "outputs": [],
   "source": [
    "cur.execute(sql)"
   ]
  },
  {
   "cell_type": "code",
   "execution_count": null,
   "id": "5490f139",
   "metadata": {},
   "outputs": [],
   "source": [
    "cur.fetchone()"
   ]
  },
  {
   "cell_type": "markdown",
   "id": "9102fa53",
   "metadata": {},
   "source": [
    "*Преобразуем результат в pandas DataFrame*"
   ]
  },
  {
   "cell_type": "markdown",
   "id": "0eebb930",
   "metadata": {},
   "source": [
    "Импортируем библиотеку pandas"
   ]
  },
  {
   "cell_type": "code",
   "execution_count": null,
   "id": "bcad656d",
   "metadata": {},
   "outputs": [],
   "source": [
    "import pandas as pd"
   ]
  },
  {
   "cell_type": "markdown",
   "id": "2e2aac63",
   "metadata": {},
   "source": [
    "Передадим результат запроса в DataFrame"
   ]
  },
  {
   "cell_type": "code",
   "execution_count": null,
   "id": "d47c6772",
   "metadata": {},
   "outputs": [],
   "source": [
    "df_sql_data = pd.DataFrame(result)"
   ]
  },
  {
   "cell_type": "code",
   "execution_count": null,
   "id": "945ce870",
   "metadata": {},
   "outputs": [],
   "source": [
    "df_sql_data"
   ]
  },
  {
   "cell_type": "markdown",
   "id": "ea3b381a",
   "metadata": {},
   "source": [
    "Далее вы можете работать с результатом запроса в pandas"
   ]
  },
  {
   "cell_type": "code",
   "execution_count": null,
   "id": "e73fc21f",
   "metadata": {},
   "outputs": [],
   "source": [
    "df_sql_data[df_sql_data[0] == 'CR2']"
   ]
  },
  {
   "cell_type": "markdown",
   "id": "2f0ae211",
   "metadata": {},
   "source": [
    "Названия колонок выглядят неудобно. Давайте поменяем их на те, которые содержатся в таблицах БД."
   ]
  },
  {
   "cell_type": "markdown",
   "id": "f256bc9b",
   "metadata": {},
   "source": [
    "Пишем наш запрос"
   ]
  },
  {
   "cell_type": "code",
   "execution_count": null,
   "id": "bef5f92e",
   "metadata": {},
   "outputs": [],
   "source": [
    "sql = '''\n",
    "SELECT *\n",
    "  FROM bookings.aircrafts_data\n",
    "'''"
   ]
  },
  {
   "cell_type": "code",
   "execution_count": null,
   "id": "065c3e9d",
   "metadata": {},
   "outputs": [],
   "source": [
    "cur.description"
   ]
  },
  {
   "cell_type": "markdown",
   "id": "7c95e126",
   "metadata": {},
   "source": [
    "Извлекаем названия колонок и сохраняем в переменную *new_column_names*"
   ]
  },
  {
   "cell_type": "code",
   "execution_count": null,
   "id": "09e4b0db",
   "metadata": {},
   "outputs": [],
   "source": [
    "new_column_names = [i[0] for i in cur.description]"
   ]
  },
  {
   "cell_type": "code",
   "execution_count": null,
   "id": "05a2ab27",
   "metadata": {},
   "outputs": [],
   "source": [
    "new_column_names"
   ]
  },
  {
   "cell_type": "markdown",
   "id": "0785a203",
   "metadata": {},
   "source": [
    "Передаем новые колонки в pandas DataFrame"
   ]
  },
  {
   "cell_type": "code",
   "execution_count": null,
   "id": "a7c6d736",
   "metadata": {},
   "outputs": [],
   "source": [
    "df_sql_data.columns = new_column_names"
   ]
  },
  {
   "cell_type": "code",
   "execution_count": null,
   "id": "6cd184fb",
   "metadata": {},
   "outputs": [],
   "source": [
    "df_sql_data.columns"
   ]
  },
  {
   "cell_type": "code",
   "execution_count": null,
   "id": "3e5a4855",
   "metadata": {},
   "outputs": [],
   "source": [
    "df_sql_data"
   ]
  },
  {
   "cell_type": "markdown",
   "id": "247f790b",
   "metadata": {},
   "source": [
    "*Вывод данных в цикле*"
   ]
  },
  {
   "cell_type": "code",
   "execution_count": null,
   "id": "04665834",
   "metadata": {},
   "outputs": [],
   "source": [
    "cur.execute(sql)\n",
    "\n",
    "for row in cur:\n",
    "    print(row)"
   ]
  },
  {
   "cell_type": "markdown",
   "id": "89baa6d5",
   "metadata": {},
   "source": [
    "*По завершении работы с курсором его следует закрыть*"
   ]
  },
  {
   "cell_type": "code",
   "execution_count": null,
   "id": "75f7b394",
   "metadata": {},
   "outputs": [],
   "source": [
    "cur.close()"
   ]
  },
  {
   "cell_type": "markdown",
   "id": "2646f008",
   "metadata": {},
   "source": [
    "*Чтобы постоянно не думать про cur.close(), можно выполнять транзакции в with-блоках:*"
   ]
  },
  {
   "cell_type": "code",
   "execution_count": null,
   "id": "a60940e4",
   "metadata": {},
   "outputs": [],
   "source": [
    "with conn:\n",
    "    with conn.cursor() as cur:\n",
    "        cur.execute(sql)\n",
    "        result = cur.fetchall()"
   ]
  },
  {
   "cell_type": "code",
   "execution_count": null,
   "id": "904520e1",
   "metadata": {},
   "outputs": [],
   "source": [
    "result"
   ]
  },
  {
   "cell_type": "markdown",
   "id": "139986a8",
   "metadata": {},
   "source": [
    "**II. Подключение к БД через SQLAlchemy**"
   ]
  },
  {
   "cell_type": "markdown",
   "id": "6aad4b11",
   "metadata": {},
   "source": [
    "Особенности SQLAlchemy:\n",
    "\n",
    "- ORM или Object Relational Mapper (объектно-реляционное отображение) позволяет работать с базой данных с помощью объектно-ориентированного кода, не используя SQL-запросы.\n",
    "- Код будет оставаться одинаковым вне зависимости от используемой БД."
   ]
  },
  {
   "cell_type": "code",
   "execution_count": null,
   "id": "62a6387d",
   "metadata": {},
   "outputs": [],
   "source": [
    "# !pip install sqlalchemy"
   ]
  },
  {
   "cell_type": "code",
   "execution_count": null,
   "id": "7ea67a92",
   "metadata": {},
   "outputs": [],
   "source": [
    "# !pip install sqlalchemy --upgrade"
   ]
  },
  {
   "cell_type": "code",
   "execution_count": null,
   "id": "1f463333",
   "metadata": {},
   "outputs": [],
   "source": [
    "# !pip uninstall sqlalchemy"
   ]
  },
  {
   "cell_type": "code",
   "execution_count": null,
   "id": "3810f061",
   "metadata": {},
   "outputs": [],
   "source": [
    "# !pip install sqlalchemy==1.4.51"
   ]
  },
  {
   "cell_type": "code",
   "execution_count": null,
   "id": "6ba9a4e0",
   "metadata": {},
   "outputs": [],
   "source": [
    "import sqlalchemy\n",
    "\n",
    "sqlalchemy.__version__"
   ]
  },
  {
   "cell_type": "markdown",
   "id": "210fb0d4",
   "metadata": {},
   "source": [
    "По умолчанию SQLAlchemy работает только с базой данных SQLite без дополнительных драйверов. \n",
    "\n",
    "Для работы с другими базами данных необходимо установить DBAPI-совместимый драйвер в соответствии с базой данных."
   ]
  },
  {
   "cell_type": "markdown",
   "id": "13e85511",
   "metadata": {},
   "source": [
    "Далее перечислены основные драйверы для различных БД:\n",
    "\n",
    "- MySQL: PyMySQL, MySQL-Connector, CyMySQL, MySQL-Python \n",
    "- PostgreSQL: psycopg2, pg8000\n",
    "- Microsoft SQL Server: PyODBC, pymssql\n",
    "- Oracle: cx-Oracle\n",
    "- Firebird: fdb, kinterbasdb"
   ]
  },
  {
   "cell_type": "code",
   "execution_count": null,
   "id": "d5492473",
   "metadata": {},
   "outputs": [],
   "source": [
    "from sqlalchemy import create_engine, text"
   ]
  },
  {
   "cell_type": "markdown",
   "id": "7aeaac81",
   "metadata": {},
   "source": [
    "Создаём функцию формирования подключения к БД"
   ]
  },
  {
   "cell_type": "code",
   "execution_count": null,
   "id": "d3459214",
   "metadata": {},
   "outputs": [],
   "source": [
    "def connection_yandex_cloud_demo(echo):\n",
    "    \"\"\"Connection to DataBase demo\"\"\"\n",
    "    login = 'student'\n",
    "    password = 'student!'\n",
    "    host = 'rc1b-7ng6ih3jte3824x8.mdb.yandexcloud.net'\n",
    "    port = '6432'\n",
    "    db_name = 'demo'\n",
    "    return create_engine(f'postgresql://{login}:{password}@{host}:{port}/{db_name}', echo=echo)"
   ]
  },
  {
   "cell_type": "markdown",
   "id": "1f9a0cc2",
   "metadata": {},
   "source": [
    "Подключаемся к БД"
   ]
  },
  {
   "cell_type": "code",
   "execution_count": null,
   "id": "5993a88f",
   "metadata": {},
   "outputs": [],
   "source": [
    "engine = connection_yandex_cloud_demo(echo=True)"
   ]
  },
  {
   "cell_type": "markdown",
   "id": "b8387daf",
   "metadata": {},
   "source": [
    "Выполнить запрос можно так:"
   ]
  },
  {
   "cell_type": "code",
   "execution_count": null,
   "id": "20e12729",
   "metadata": {},
   "outputs": [],
   "source": [
    "with engine.begin() as connection:\n",
    "    result = connection.execute(text(\"SELECT * FROM bookings.aircrafts_data\"))"
   ]
  },
  {
   "cell_type": "markdown",
   "id": "b5049631",
   "metadata": {},
   "source": [
    "или так:"
   ]
  },
  {
   "cell_type": "code",
   "execution_count": null,
   "id": "f2ee9c8a",
   "metadata": {},
   "outputs": [],
   "source": [
    "with engine.connect() as connection:\n",
    "    result = connection.execute(text(\"SELECT * FROM bookings.aircrafts_data\"))\n",
    "    connection.commit()"
   ]
  },
  {
   "cell_type": "markdown",
   "id": "356886de",
   "metadata": {},
   "source": [
    "Результат можно вывести методом fetchall()"
   ]
  },
  {
   "cell_type": "code",
   "execution_count": null,
   "id": "86ed471f",
   "metadata": {},
   "outputs": [],
   "source": [
    "result.fetchall()"
   ]
  },
  {
   "cell_type": "markdown",
   "id": "c4c89dea",
   "metadata": {},
   "source": [
    "*Запрос на чистом SQL*"
   ]
  },
  {
   "cell_type": "code",
   "execution_count": null,
   "id": "47d29bf1",
   "metadata": {},
   "outputs": [],
   "source": [
    "with engine.begin() as connection:\n",
    "    select_result = connection.execute(text(\"SELECT * FROM bookings.airports_data\")).fetchall()"
   ]
  },
  {
   "cell_type": "code",
   "execution_count": null,
   "id": "b37f498d",
   "metadata": {},
   "outputs": [],
   "source": [
    "select_result"
   ]
  },
  {
   "cell_type": "markdown",
   "id": "95451824",
   "metadata": {},
   "source": [
    "*Результат возвращается в виде списка. Каждый элемент списка является строкой из БД.*"
   ]
  },
  {
   "cell_type": "code",
   "execution_count": null,
   "id": "3f6244b3",
   "metadata": {},
   "outputs": [],
   "source": [
    "select_result[0]"
   ]
  },
  {
   "cell_type": "markdown",
   "id": "c83b916e",
   "metadata": {},
   "source": [
    "Каждая строка в свою очередь также является списком. К элементам также можно обращаться по индексу."
   ]
  },
  {
   "cell_type": "code",
   "execution_count": null,
   "id": "2d6d1a7d",
   "metadata": {},
   "outputs": [],
   "source": [
    "select_result[0][0]"
   ]
  },
  {
   "cell_type": "code",
   "execution_count": null,
   "id": "a891f23d",
   "metadata": {},
   "outputs": [],
   "source": [
    "select_result[0][1]"
   ]
  },
  {
   "cell_type": "code",
   "execution_count": null,
   "id": "9536d26a",
   "metadata": {},
   "outputs": [],
   "source": [
    "select_result[0][1]['en']"
   ]
  },
  {
   "cell_type": "markdown",
   "id": "2f380435",
   "metadata": {},
   "source": [
    "*Запросы с применением ORM (объектно-реляционное отображение) SQLAlchemy*"
   ]
  },
  {
   "cell_type": "markdown",
   "id": "ba37c79a",
   "metadata": {},
   "source": [
    "Загружаем данные о таблицах из БД demo"
   ]
  },
  {
   "cell_type": "code",
   "execution_count": null,
   "id": "5fd44986",
   "metadata": {},
   "outputs": [],
   "source": [
    "from sqlalchemy.schema import MetaData\n",
    "\n",
    "metadata_demo_db = MetaData(schema = 'bookings')\n",
    "metadata_demo_db.reflect(bind = engine);"
   ]
  },
  {
   "cell_type": "markdown",
   "id": "b47be999",
   "metadata": {},
   "source": [
    "Выводим названия таблиц"
   ]
  },
  {
   "cell_type": "code",
   "execution_count": null,
   "id": "7f68c5c8",
   "metadata": {},
   "outputs": [],
   "source": [
    "for table_name in metadata_demo_db.tables:\n",
    "    print(table_name)"
   ]
  },
  {
   "cell_type": "code",
   "execution_count": null,
   "id": "7215f247",
   "metadata": {},
   "outputs": [],
   "source": [
    "from sqlalchemy import Table\n",
    "\n",
    "boarding_passes = Table('boarding_passes', metadata_demo_db, autoload=True)\n",
    "ticket_flights = Table('ticket_flights', metadata_demo_db, autoload=True)\n",
    "flights = Table('flights', metadata_demo_db, autoload=True)\n",
    "aircrafts_data = Table('aircrafts_data', metadata_demo_db, autoload=True)\n",
    "airports_data = Table('airports_data', metadata_demo_db, autoload=True)\n",
    "tickets = Table('tickets', metadata_demo_db, autoload=True)\n",
    "bookings = Table('bookings', metadata_demo_db, autoload=True)\n",
    "seats = Table('seats', metadata_demo_db, autoload=True)"
   ]
  },
  {
   "cell_type": "code",
   "execution_count": null,
   "id": "58294c33",
   "metadata": {},
   "outputs": [],
   "source": [
    "print(aircrafts_data.columns)"
   ]
  },
  {
   "cell_type": "markdown",
   "id": "5fb20859",
   "metadata": {},
   "source": [
    "SELECT"
   ]
  },
  {
   "cell_type": "code",
   "execution_count": null,
   "id": "a2aca367",
   "metadata": {},
   "outputs": [],
   "source": [
    "from sqlalchemy import select"
   ]
  },
  {
   "cell_type": "code",
   "execution_count": null,
   "id": "10d4c419",
   "metadata": {},
   "outputs": [],
   "source": [
    "sql_query = select(aircrafts_data)"
   ]
  },
  {
   "cell_type": "code",
   "execution_count": null,
   "id": "1b2edd73",
   "metadata": {},
   "outputs": [],
   "source": [
    "print(sql_query)"
   ]
  },
  {
   "cell_type": "code",
   "execution_count": null,
   "id": "980a5e71",
   "metadata": {},
   "outputs": [],
   "source": [
    "with engine.begin() as connection:\n",
    "    result = connection.execute(sql_query).fetchall()"
   ]
  },
  {
   "cell_type": "code",
   "execution_count": null,
   "id": "69cd2e34",
   "metadata": {},
   "outputs": [],
   "source": [
    "result"
   ]
  },
  {
   "cell_type": "markdown",
   "id": "de245e96",
   "metadata": {},
   "source": [
    "Фильтрация записей"
   ]
  },
  {
   "cell_type": "code",
   "execution_count": null,
   "id": "b5f58a2a",
   "metadata": {},
   "outputs": [],
   "source": [
    "sql_query = select(aircrafts_data).where(\n",
    "    aircrafts_data.c.range < 5000\n",
    ")\n",
    "\n",
    "\n",
    "print(sql_query)"
   ]
  },
  {
   "cell_type": "code",
   "execution_count": null,
   "id": "ed0e2b25",
   "metadata": {},
   "outputs": [],
   "source": [
    "with engine.begin() as connection:\n",
    "    result_with_where = connection.execute(sql_query).fetchall()"
   ]
  },
  {
   "cell_type": "code",
   "execution_count": null,
   "id": "5b28a87b",
   "metadata": {},
   "outputs": [],
   "source": [
    "result_with_where"
   ]
  },
  {
   "cell_type": "markdown",
   "id": "3d667a1f",
   "metadata": {},
   "source": [
    "Фильтрация по нескольким условиям"
   ]
  },
  {
   "cell_type": "code",
   "execution_count": null,
   "id": "d9548fbf",
   "metadata": {},
   "outputs": [],
   "source": [
    "sql_query = select(aircrafts_data).where(\n",
    "    (aircrafts_data.c.range < 5000) &\n",
    "    (aircrafts_data.c.aircraft_code == 'SU9')\n",
    ")\n",
    "\n",
    "print(sql_query)"
   ]
  },
  {
   "cell_type": "code",
   "execution_count": null,
   "id": "7120bc91",
   "metadata": {},
   "outputs": [],
   "source": [
    "with engine.begin() as connection:\n",
    "    result_with_where = connection.execute(sql_query).fetchall()"
   ]
  },
  {
   "cell_type": "code",
   "execution_count": null,
   "id": "f6e5607b",
   "metadata": {},
   "outputs": [],
   "source": [
    "result_with_where"
   ]
  },
  {
   "cell_type": "markdown",
   "id": "da93440c",
   "metadata": {},
   "source": [
    "Логические операторы:\n",
    "\n",
    "AND - \"&\"\n",
    "\n",
    "OR - \"|\"\n",
    "\n",
    "NOT - \"~\" "
   ]
  },
  {
   "cell_type": "code",
   "execution_count": null,
   "id": "315843f7",
   "metadata": {},
   "outputs": [],
   "source": [
    "sql_query = select(aircrafts_data.c.aircraft_code, aircrafts_data.c.model).\\\n",
    "    where(\n",
    "      (aircrafts_data.c.range > 3000 ) | \n",
    "      (aircrafts_data.c.range < 9000)\n",
    "    ) \n",
    "print(sql_query, '\\n')\n",
    "\n",
    "sql_query = select(aircrafts_data).\\\n",
    "    where(    \n",
    "      ~(aircrafts_data.c.aircraft_code == '733')\n",
    "    ) \n",
    "print(sql_query, '\\n')\n",
    "\n",
    "sql_query = select(aircrafts_data).\\\n",
    "    where(\n",
    "      ~(aircrafts_data.c.aircraft_code == '733') &\n",
    "      (aircrafts_data.c.range < 3000)\n",
    "    )\n",
    "print(sql_query)"
   ]
  },
  {
   "cell_type": "markdown",
   "id": "e0a0967e",
   "metadata": {},
   "source": [
    "IS NULL"
   ]
  },
  {
   "cell_type": "code",
   "execution_count": null,
   "id": "ddaf81bf",
   "metadata": {},
   "outputs": [],
   "source": [
    "sql_query = select(flights.c.flight_id, flights.c.actual_departure).\\\n",
    "    where(\n",
    "      (flights.c.actual_departure == None)\n",
    "    ) \n",
    "\n",
    "print(sql_query)"
   ]
  },
  {
   "cell_type": "code",
   "execution_count": null,
   "id": "e8239dfc",
   "metadata": {},
   "outputs": [],
   "source": [
    "with engine.begin() as connection:\n",
    "    result = connection.execute(sql_query).fetchall()"
   ]
  },
  {
   "cell_type": "code",
   "execution_count": null,
   "id": "128d14fa",
   "metadata": {},
   "outputs": [],
   "source": [
    "result"
   ]
  },
  {
   "cell_type": "markdown",
   "id": "3254b724",
   "metadata": {},
   "source": [
    "IS NOT NULL"
   ]
  },
  {
   "cell_type": "code",
   "execution_count": null,
   "id": "311d9365",
   "metadata": {},
   "outputs": [],
   "source": [
    "sql_query = select(flights).where(\n",
    "flights.c.actual_departure != None)\n",
    "\n",
    "print(sql_query)"
   ]
  },
  {
   "cell_type": "markdown",
   "id": "a6891c93",
   "metadata": {},
   "source": [
    "IN"
   ]
  },
  {
   "cell_type": "code",
   "execution_count": null,
   "id": "85153474",
   "metadata": {},
   "outputs": [],
   "source": [
    "sql_query = select(flights).\\\n",
    "    where(flights.c.departure_airport.in_(['DME','VKO']) )\n",
    "\n",
    "print(sql_query,)"
   ]
  },
  {
   "cell_type": "code",
   "execution_count": null,
   "id": "de968d56",
   "metadata": {},
   "outputs": [],
   "source": [
    "with engine.begin() as connection:\n",
    "    result = connection.execute(sql_query).fetchone()"
   ]
  },
  {
   "cell_type": "code",
   "execution_count": null,
   "id": "cc33ab16",
   "metadata": {},
   "outputs": [],
   "source": [
    "result"
   ]
  },
  {
   "cell_type": "markdown",
   "id": "91b8f219",
   "metadata": {},
   "source": [
    "NOT IN"
   ]
  },
  {
   "cell_type": "code",
   "execution_count": null,
   "id": "f3765f4e",
   "metadata": {},
   "outputs": [],
   "source": [
    "sql_query = select(flights).\\\n",
    "    where(flights.c.departure_airport.notin_(['DME','VKO']) )\n",
    "\n",
    "print(sql_query)"
   ]
  },
  {
   "cell_type": "code",
   "execution_count": null,
   "id": "c6852795",
   "metadata": {},
   "outputs": [],
   "source": [
    "with engine.begin() as connection:\n",
    "    result = connection.execute(sql_query).fetchone()"
   ]
  },
  {
   "cell_type": "code",
   "execution_count": null,
   "id": "314ca18a",
   "metadata": {},
   "outputs": [],
   "source": [
    "result"
   ]
  },
  {
   "cell_type": "markdown",
   "id": "9ffa6f4c",
   "metadata": {},
   "source": [
    "BETWEEN"
   ]
  },
  {
   "cell_type": "code",
   "execution_count": null,
   "id": "4bf85079",
   "metadata": {},
   "outputs": [],
   "source": [
    "sql_query = select(flights).\\\n",
    "            where(flights.c.scheduled_departure.between('2017-01-01','2018-01-01') )\n",
    "\n",
    "print(sql_query)"
   ]
  },
  {
   "cell_type": "markdown",
   "id": "5dcca4e3",
   "metadata": {},
   "source": [
    "LIKE"
   ]
  },
  {
   "cell_type": "code",
   "execution_count": null,
   "id": "3d6b6592",
   "metadata": {},
   "outputs": [],
   "source": [
    "sql_query = select(aircrafts_data).\\\n",
    "            where(aircrafts_data.c.aircraft_code.like('C%') )\n",
    "\n",
    "print(sql_query)"
   ]
  },
  {
   "cell_type": "markdown",
   "id": "01b5bc2e",
   "metadata": {},
   "source": [
    "Сортировка ORDER BY"
   ]
  },
  {
   "cell_type": "code",
   "execution_count": null,
   "id": "a01fca6a",
   "metadata": {},
   "outputs": [],
   "source": [
    "sql_query = select(aircrafts_data).\\\n",
    "            order_by(aircrafts_data.c.range).\\\n",
    "            where(aircrafts_data.c.range == 1200)\n",
    "\n",
    "print(sql_query, '\\n')"
   ]
  },
  {
   "cell_type": "code",
   "execution_count": null,
   "id": "1aece32c",
   "metadata": {},
   "outputs": [],
   "source": [
    "with engine.begin() as connection:\n",
    "    result = connection.execute(sql_query).fetchall()"
   ]
  },
  {
   "cell_type": "code",
   "execution_count": null,
   "id": "6f307300",
   "metadata": {},
   "outputs": [],
   "source": [
    "result"
   ]
  },
  {
   "cell_type": "markdown",
   "id": "de26cab8",
   "metadata": {},
   "source": [
    "Обратная сортировка"
   ]
  },
  {
   "cell_type": "code",
   "execution_count": null,
   "id": "7bab35f7",
   "metadata": {},
   "outputs": [],
   "source": [
    "from sqlalchemy import desc"
   ]
  },
  {
   "cell_type": "code",
   "execution_count": null,
   "id": "a798d542",
   "metadata": {},
   "outputs": [],
   "source": [
    "sql_query = select(aircrafts_data).\\\n",
    "            order_by(desc(aircrafts_data.c.range))\n",
    "\n",
    "print(sql_query)"
   ]
  },
  {
   "cell_type": "code",
   "execution_count": null,
   "id": "14bdb6d6",
   "metadata": {},
   "outputs": [],
   "source": [
    "with engine.begin() as connection:\n",
    "    result = connection.execute(sql_query).fetchall()"
   ]
  },
  {
   "cell_type": "code",
   "execution_count": null,
   "id": "0a23a4f7",
   "metadata": {},
   "outputs": [],
   "source": [
    "result"
   ]
  },
  {
   "cell_type": "markdown",
   "id": "47fb045f",
   "metadata": {},
   "source": [
    "LIMIT"
   ]
  },
  {
   "cell_type": "code",
   "execution_count": null,
   "id": "a6a1300b",
   "metadata": {},
   "outputs": [],
   "source": [
    "from sqlalchemy import desc\n",
    "\n",
    "sql_query = select(aircrafts_data).\\\n",
    "            order_by(desc(aircrafts_data.c.range)).\\\n",
    "            limit(3)\n",
    "\n",
    "print(sql_query)"
   ]
  },
  {
   "cell_type": "code",
   "execution_count": null,
   "id": "3db63358",
   "metadata": {},
   "outputs": [],
   "source": [
    "with engine.begin() as connection:\n",
    "    result = connection.execute(sql_query).fetchall()"
   ]
  },
  {
   "cell_type": "code",
   "execution_count": null,
   "id": "7f97c43e",
   "metadata": {},
   "outputs": [],
   "source": [
    "result"
   ]
  },
  {
   "cell_type": "markdown",
   "id": "4234a8fe",
   "metadata": {},
   "source": [
    "OFFSET"
   ]
  },
  {
   "cell_type": "code",
   "execution_count": null,
   "id": "66eaec71",
   "metadata": {},
   "outputs": [],
   "source": [
    "from sqlalchemy import desc\n",
    "\n",
    "sql_query = select(aircrafts_data).\\\n",
    "            limit(3).\\\n",
    "            order_by(desc(aircrafts_data.c.range)).\\\n",
    "            offset(3)\n",
    "\n",
    "print(sql_query)"
   ]
  },
  {
   "cell_type": "code",
   "execution_count": null,
   "id": "f6cbbc3c",
   "metadata": {},
   "outputs": [],
   "source": [
    "with engine.begin() as connection:\n",
    "    result = connection.execute(sql_query).fetchall()"
   ]
  },
  {
   "cell_type": "code",
   "execution_count": null,
   "id": "5441ca6b",
   "metadata": {},
   "outputs": [],
   "source": [
    "result"
   ]
  },
  {
   "cell_type": "markdown",
   "id": "240448ef",
   "metadata": {},
   "source": [
    "LABEL (ALIAS)"
   ]
  },
  {
   "cell_type": "code",
   "execution_count": null,
   "id": "4b3d70aa",
   "metadata": {},
   "outputs": [],
   "source": [
    "sql_query = select(\n",
    "                aircrafts_data.c.aircraft_code\n",
    "               ,aircrafts_data.c.range.label('rng')\n",
    "            ).\\\n",
    "            order_by(desc('rng')).\\\n",
    "            limit(3)\n",
    "\n",
    "print(sql_query)"
   ]
  },
  {
   "cell_type": "code",
   "execution_count": null,
   "id": "fea7d802",
   "metadata": {},
   "outputs": [],
   "source": [
    "with engine.begin() as connection:\n",
    "    result = connection.execute(sql_query).fetchall()"
   ]
  },
  {
   "cell_type": "code",
   "execution_count": null,
   "id": "811eb540",
   "metadata": {},
   "outputs": [],
   "source": [
    "result"
   ]
  },
  {
   "cell_type": "markdown",
   "id": "9c8a6025",
   "metadata": {},
   "source": [
    "Использование функций"
   ]
  },
  {
   "cell_type": "code",
   "execution_count": null,
   "id": "6a2375d6",
   "metadata": {},
   "outputs": [],
   "source": [
    "from sqlalchemy.sql import func\n",
    "\n",
    "functions = [\n",
    "    \n",
    "    ## datetime operations\n",
    "    \n",
    "    func.timeofday(),\n",
    "    func.localtime(),\n",
    "    func.current_timestamp(),    \n",
    "    func.date_part(\"month\", func.now()),        \n",
    "    func.now(),\n",
    "    \n",
    "    # math operations\n",
    "    \n",
    "    func.pow(4,2),\n",
    "    func.sqrt(441),\n",
    "    func.pi(),        \n",
    "    func.floor(func.pi()),\n",
    "    func.ceil(func.pi()),\n",
    "    \n",
    "    # operations with strings\n",
    "    \n",
    "    func.lower(\"ABC\"),\n",
    "    func.upper(\"abc\"),\n",
    "    func.length(\"abc\")\n",
    "]\n",
    "\n",
    "for function in functions:\n",
    "    select_query = select(function)\n",
    "    print(select_query)"
   ]
  },
  {
   "cell_type": "markdown",
   "id": "999e9adc",
   "metadata": {},
   "source": [
    "Агрегирующие функции"
   ]
  },
  {
   "cell_type": "code",
   "execution_count": null,
   "id": "564c1cb6",
   "metadata": {},
   "outputs": [],
   "source": [
    "# Примеры (!Запускать не надо):\n",
    "\n",
    "agg_functions = [ \n",
    "    func.sum(table_name.c.column_name),\n",
    "    func.avg(table_name.c.column_name),    \n",
    "    func.max(table_name.c.column_name),\n",
    "    func.min(table_name.c.column_name),\n",
    "    func.count(table_name.c.column_name),    \n",
    "]"
   ]
  },
  {
   "cell_type": "code",
   "execution_count": null,
   "id": "84d7afd5",
   "metadata": {},
   "outputs": [],
   "source": [
    "from sqlalchemy.sql import func\n",
    "\n",
    "sql_query = select(\n",
    "                func.sum(ticket_flights.c.amount).label('total_amount')\n",
    "            )\n",
    "\n",
    "print(sql_query)"
   ]
  },
  {
   "cell_type": "code",
   "execution_count": null,
   "id": "ce0f0268",
   "metadata": {},
   "outputs": [],
   "source": [
    "with engine.begin() as connection:\n",
    "    result = connection.execute(sql_query).fetchall()"
   ]
  },
  {
   "cell_type": "code",
   "execution_count": null,
   "id": "a8f8187c",
   "metadata": {},
   "outputs": [],
   "source": [
    "result"
   ]
  },
  {
   "cell_type": "markdown",
   "id": "10fe9291",
   "metadata": {},
   "source": [
    "Группировка GROUP BY"
   ]
  },
  {
   "cell_type": "code",
   "execution_count": null,
   "id": "5eb2a4bd",
   "metadata": {},
   "outputs": [],
   "source": [
    "sql_query = select(\n",
    "                flights.c.departure_airport.label('dep_air')\n",
    "               ,func.count(\"*\")\n",
    "            ).group_by('dep_air')"
   ]
  },
  {
   "cell_type": "code",
   "execution_count": null,
   "id": "98af296a",
   "metadata": {},
   "outputs": [],
   "source": [
    "print(sql_query)"
   ]
  },
  {
   "cell_type": "code",
   "execution_count": null,
   "id": "ebb84cff",
   "metadata": {},
   "outputs": [],
   "source": [
    "with engine.begin() as connection:\n",
    "    result = connection.execute(sql_query).fetchall()"
   ]
  },
  {
   "cell_type": "code",
   "execution_count": null,
   "id": "92486d34",
   "metadata": {},
   "outputs": [],
   "source": [
    "result[:10]"
   ]
  },
  {
   "cell_type": "markdown",
   "id": "bbbed35f",
   "metadata": {},
   "source": [
    "**Объединения JOINS**"
   ]
  },
  {
   "cell_type": "code",
   "execution_count": null,
   "id": "6e5946d5",
   "metadata": {},
   "outputs": [],
   "source": [
    "print(aircrafts_data.join(seats))"
   ]
  },
  {
   "cell_type": "code",
   "execution_count": null,
   "id": "31371c89",
   "metadata": {},
   "outputs": [],
   "source": [
    "sql_query = select(\n",
    "    aircrafts_data\n",
    "    ,seats.c.seat_no\n",
    "    ,seats.c.fare_conditions\n",
    ").\\\n",
    "select_from(aircrafts_data.\\\n",
    "            join(seats)\n",
    "           )"
   ]
  },
  {
   "cell_type": "code",
   "execution_count": null,
   "id": "919ec3e6",
   "metadata": {},
   "outputs": [],
   "source": [
    "print(sql_query)"
   ]
  },
  {
   "cell_type": "code",
   "execution_count": null,
   "id": "49dcf66f",
   "metadata": {},
   "outputs": [],
   "source": [
    "with engine.begin() as connection:\n",
    "    result = connection.execute(sql_query).fetchall()"
   ]
  },
  {
   "cell_type": "code",
   "execution_count": null,
   "id": "7d98726a",
   "metadata": {},
   "outputs": [],
   "source": [
    "result[:5]"
   ]
  },
  {
   "cell_type": "markdown",
   "id": "34ce003c",
   "metadata": {},
   "source": [
    "**Оконные функции**"
   ]
  },
  {
   "cell_type": "code",
   "execution_count": null,
   "id": "a6a83766",
   "metadata": {},
   "outputs": [],
   "source": [
    "sql_query = select(aircrafts_data.c.aircraft_code\n",
    "                  ,func.sum(aircrafts_data.c.range).over(\n",
    "                  partition_by = aircrafts_data.c.aircraft_code,\n",
    "                  order_by = aircrafts_data.c.aircraft_code\n",
    "                  )\n",
    "                  )\n",
    "\n",
    "print(sql_query)"
   ]
  },
  {
   "cell_type": "code",
   "execution_count": null,
   "id": "afef0758",
   "metadata": {},
   "outputs": [],
   "source": [
    "with engine.begin() as connection:\n",
    "    result = connection.execute(sql_query).fetchall()"
   ]
  },
  {
   "cell_type": "code",
   "execution_count": null,
   "id": "3c5fdaa9",
   "metadata": {},
   "outputs": [],
   "source": [
    "result"
   ]
  },
  {
   "cell_type": "markdown",
   "id": "9d44df8f",
   "metadata": {},
   "source": [
    "**Загрузка данных с помощью Pandas**"
   ]
  },
  {
   "cell_type": "markdown",
   "id": "6c620e3d",
   "metadata": {},
   "source": [
    "*Импортируем библиотеки*"
   ]
  },
  {
   "cell_type": "code",
   "execution_count": null,
   "id": "26888741",
   "metadata": {},
   "outputs": [],
   "source": [
    "import pandas as pd\n",
    "pd.set_option('display.max_columns', None)\n",
    "\n",
    "import warnings\n",
    "warnings.filterwarnings('ignore')"
   ]
  },
  {
   "cell_type": "markdown",
   "id": "1602a703",
   "metadata": {},
   "source": [
    "**Выборка данных с помощью Pandas**"
   ]
  },
  {
   "cell_type": "code",
   "execution_count": null,
   "id": "a412c73b",
   "metadata": {},
   "outputs": [],
   "source": [
    "sql = '''\n",
    "SELECT t.passenger_name\n",
    "      ,f.scheduled_departure \n",
    "      ,sum(tf.amount) over(PARTITION BY t.passenger_name ORDER BY f.scheduled_departure) AS current_sum\n",
    "      ,tf.amount\n",
    "  FROM tickets t \n",
    "  JOIN ticket_flights tf ON t.ticket_no = tf.ticket_no\n",
    "  JOIN flights f ON tf.flight_id = f.flight_id\n",
    " WHERE t.passenger_name LIKE '%OVA'\n",
    "   AND EXTRACT('YEAR' FROM f.scheduled_departure) = 2017\n",
    "'''"
   ]
  },
  {
   "cell_type": "code",
   "execution_count": null,
   "id": "b4c18f01",
   "metadata": {},
   "outputs": [],
   "source": [
    "print(sql)"
   ]
  },
  {
   "cell_type": "code",
   "execution_count": null,
   "id": "451f9735",
   "metadata": {},
   "outputs": [],
   "source": [
    "?pd.read_sql"
   ]
  },
  {
   "cell_type": "code",
   "execution_count": null,
   "id": "3ff72bcd",
   "metadata": {},
   "outputs": [],
   "source": [
    "print(engine)"
   ]
  },
  {
   "cell_type": "code",
   "execution_count": null,
   "id": "3996f329",
   "metadata": {
    "scrolled": false
   },
   "outputs": [],
   "source": [
    "with engine.begin() as connection:\n",
    "    df = pd.read_sql(text(sql), con = connection)"
   ]
  },
  {
   "cell_type": "code",
   "execution_count": null,
   "id": "7fbe7460",
   "metadata": {},
   "outputs": [],
   "source": [
    "df.shape"
   ]
  },
  {
   "cell_type": "code",
   "execution_count": null,
   "id": "e4e6fc69",
   "metadata": {},
   "outputs": [],
   "source": [
    "df.head()"
   ]
  },
  {
   "cell_type": "code",
   "execution_count": null,
   "id": "a259be36",
   "metadata": {},
   "outputs": [],
   "source": [
    "df[df['passenger_name'] == 'ADELINA POPOVA'][['scheduled_departure', 'current_sum']]"
   ]
  },
  {
   "cell_type": "markdown",
   "id": "e8912219",
   "metadata": {},
   "source": [
    "Посчитаем количество перелётов для каждого месяца"
   ]
  },
  {
   "cell_type": "code",
   "execution_count": null,
   "id": "bdb0e003",
   "metadata": {},
   "outputs": [],
   "source": [
    "sql = '''\n",
    "SELECT extract(YEAR FROM scheduled_departure) AS \"year\"\n",
    "      ,extract(MONTH FROM scheduled_departure) AS \"month\"\n",
    "      ,count(flight_id) AS count_of_flights\n",
    "  FROM flights\n",
    " GROUP BY extract(YEAR FROM scheduled_departure), extract(MONTH FROM scheduled_departure)\n",
    " ORDER BY 1, 2\n",
    "'''"
   ]
  },
  {
   "cell_type": "code",
   "execution_count": null,
   "id": "941c4fe9",
   "metadata": {},
   "outputs": [],
   "source": [
    "with engine.begin() as connection:\n",
    "    df = pd.read_sql(sql=text(sql), con=connection)"
   ]
  },
  {
   "cell_type": "code",
   "execution_count": null,
   "id": "ec39ad85",
   "metadata": {},
   "outputs": [],
   "source": [
    "df.shape"
   ]
  },
  {
   "cell_type": "code",
   "execution_count": null,
   "id": "924613a2",
   "metadata": {},
   "outputs": [],
   "source": [
    "df.head()"
   ]
  },
  {
   "cell_type": "code",
   "execution_count": null,
   "id": "5e75cef1",
   "metadata": {},
   "outputs": [],
   "source": [
    "df.dtypes"
   ]
  },
  {
   "cell_type": "markdown",
   "id": "034ac09a",
   "metadata": {},
   "source": [
    "Преобразуем типы двух колонок"
   ]
  },
  {
   "cell_type": "code",
   "execution_count": null,
   "id": "f89a0731",
   "metadata": {},
   "outputs": [],
   "source": [
    "df.year = df.year.astype(int)\n",
    "df.month = df.month.astype(int)"
   ]
  },
  {
   "cell_type": "code",
   "execution_count": null,
   "id": "5375d955",
   "metadata": {},
   "outputs": [],
   "source": [
    "df.head()"
   ]
  },
  {
   "cell_type": "markdown",
   "id": "c62c8063",
   "metadata": {},
   "source": [
    "Создадим новую колонку год-месяц"
   ]
  },
  {
   "cell_type": "code",
   "execution_count": null,
   "id": "f2e13b7e",
   "metadata": {},
   "outputs": [],
   "source": [
    "(df.year.astype(str) + '-' + df.month.astype(str))"
   ]
  },
  {
   "cell_type": "code",
   "execution_count": null,
   "id": "65208572",
   "metadata": {},
   "outputs": [],
   "source": [
    "df['year_month'] = (df.year.astype(str) + '-' + df.month.astype(str))"
   ]
  },
  {
   "cell_type": "code",
   "execution_count": null,
   "id": "d7b288b8",
   "metadata": {},
   "outputs": [],
   "source": [
    "df.head()"
   ]
  },
  {
   "cell_type": "markdown",
   "id": "12535e43",
   "metadata": {},
   "source": [
    "Нарисуем столбчатую диаграмму кол-ва перелётов по месяцам"
   ]
  },
  {
   "cell_type": "code",
   "execution_count": null,
   "id": "7fdcb780",
   "metadata": {},
   "outputs": [],
   "source": [
    "df = df[['year_month', 'count_of_flights']]\n",
    "ax = df.plot.bar(x='year_month', y='count_of_flights', title='Count of flights')"
   ]
  },
  {
   "cell_type": "markdown",
   "id": "6cdea277",
   "metadata": {},
   "source": [
    "Сохраним полученные данные в excel"
   ]
  },
  {
   "cell_type": "code",
   "execution_count": null,
   "id": "0b8582a8",
   "metadata": {},
   "outputs": [],
   "source": [
    "df.to_excel('report_airport_data_2024.xlsx')"
   ]
  }
 ],
 "metadata": {
  "kernelspec": {
   "display_name": "Python 3 (ipykernel)",
   "language": "python",
   "name": "python3"
  },
  "language_info": {
   "codemirror_mode": {
    "name": "ipython",
    "version": 3
   },
   "file_extension": ".py",
   "mimetype": "text/x-python",
   "name": "python",
   "nbconvert_exporter": "python",
   "pygments_lexer": "ipython3",
   "version": "3.9.13"
  }
 },
 "nbformat": 4,
 "nbformat_minor": 5
}
